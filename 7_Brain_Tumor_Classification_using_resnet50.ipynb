{
  "cells": [
    {
      "cell_type": "markdown",
      "id": "4ba2c346",
      "metadata": {
        "papermill": {
          "duration": 0.00729,
          "end_time": "2024-02-03T17:39:53.054233",
          "exception": false,
          "start_time": "2024-02-03T17:39:53.046943",
          "status": "completed"
        },
        "tags": [],
        "id": "4ba2c346"
      },
      "source": [
        "# Import Libraries"
      ]
    },
    {
      "cell_type": "code",
      "source": [
        "from google.colab import drive\n",
        "drive.mount('/content/drive')"
      ],
      "metadata": {
        "colab": {
          "base_uri": "https://localhost:8080/"
        },
        "id": "vYXHYzKrnEY2",
        "outputId": "323337ed-aec8-4689-e682-438e0197074d"
      },
      "id": "vYXHYzKrnEY2",
      "execution_count": 1,
      "outputs": [
        {
          "output_type": "stream",
          "name": "stdout",
          "text": [
            "Mounted at /content/drive\n"
          ]
        }
      ]
    },
    {
      "cell_type": "markdown",
      "id": "c7c72dae",
      "metadata": {
        "papermill": {
          "duration": 0.006532,
          "end_time": "2024-02-03T17:39:53.067704",
          "exception": false,
          "start_time": "2024-02-03T17:39:53.061172",
          "status": "completed"
        },
        "tags": [],
        "id": "c7c72dae"
      },
      "source": [
        "The code imports necessary libraries, including Pandas, NumPy, Matplotlib, TensorFlow, and Keras. It also sets up a deep learning model using the ResNet50 architecture for image classification with data augmentation using ImageDataGenerator."
      ]
    },
    {
      "cell_type": "code",
      "execution_count": 2,
      "id": "2ec110db",
      "metadata": {
        "execution": {
          "iopub.execute_input": "2024-02-03T17:39:53.084129Z",
          "iopub.status.busy": "2024-02-03T17:39:53.083254Z",
          "iopub.status.idle": "2024-02-03T17:40:10.510424Z",
          "shell.execute_reply": "2024-02-03T17:40:10.508875Z"
        },
        "papermill": {
          "duration": 17.438758,
          "end_time": "2024-02-03T17:40:10.513413",
          "exception": false,
          "start_time": "2024-02-03T17:39:53.074655",
          "status": "completed"
        },
        "tags": [],
        "id": "2ec110db"
      },
      "outputs": [],
      "source": [
        "import pandas as pd\n",
        "import numpy as np\n",
        "import matplotlib.pyplot as plt\n",
        "import tensorflow as tf\n",
        "from keras.preprocessing.image import ImageDataGenerator\n",
        "from tensorflow.keras.applications import ResNet50\n",
        "from tensorflow.keras.models import Sequential\n",
        "from tensorflow.keras.layers import GlobalAveragePooling2D, Dense\n",
        "\n",
        "\n"
      ]
    },
    {
      "cell_type": "markdown",
      "id": "ee68e5f8",
      "metadata": {
        "papermill": {
          "duration": 0.006735,
          "end_time": "2024-02-03T17:40:10.527490",
          "exception": false,
          "start_time": "2024-02-03T17:40:10.520755",
          "status": "completed"
        },
        "tags": [],
        "id": "ee68e5f8"
      },
      "source": [
        "# Preprocessing training and testing data"
      ]
    },
    {
      "cell_type": "markdown",
      "id": "8e3e77d8",
      "metadata": {
        "papermill": {
          "duration": 0.006834,
          "end_time": "2024-02-03T17:40:10.541340",
          "exception": false,
          "start_time": "2024-02-03T17:40:10.534506",
          "status": "completed"
        },
        "tags": [],
        "id": "8e3e77d8"
      },
      "source": [
        "## preprocessing training data"
      ]
    },
    {
      "cell_type": "markdown",
      "id": "c6b6925f",
      "metadata": {
        "papermill": {
          "duration": 0.006697,
          "end_time": "2024-02-03T17:40:10.555070",
          "exception": false,
          "start_time": "2024-02-03T17:40:10.548373",
          "status": "completed"
        },
        "tags": [],
        "id": "c6b6925f"
      },
      "source": [
        "This code initializes an image data generator with pixel rescaling and data augmentation settings. It then loads the training data from the specified directory, resizes the images to 224x224 pixels, and applies the configured augmentation."
      ]
    },
    {
      "cell_type": "code",
      "execution_count": 3,
      "id": "1cedc7a7",
      "metadata": {
        "execution": {
          "iopub.execute_input": "2024-02-03T17:40:10.571957Z",
          "iopub.status.busy": "2024-02-03T17:40:10.571233Z",
          "iopub.status.idle": "2024-02-03T17:40:10.811704Z",
          "shell.execute_reply": "2024-02-03T17:40:10.810410Z"
        },
        "papermill": {
          "duration": 0.252133,
          "end_time": "2024-02-03T17:40:10.814586",
          "exception": false,
          "start_time": "2024-02-03T17:40:10.562453",
          "status": "completed"
        },
        "tags": [],
        "colab": {
          "base_uri": "https://localhost:8080/"
        },
        "id": "1cedc7a7",
        "outputId": "1553e2c5-73e4-4352-afbe-38393db1a84e"
      },
      "outputs": [
        {
          "output_type": "stream",
          "name": "stdout",
          "text": [
            "Found 2870 images belonging to 4 classes.\n"
          ]
        }
      ],
      "source": [
        "\n",
        "train_datagen = ImageDataGenerator(\n",
        "    rescale=1./255,\n",
        "    shear_range=0.2,\n",
        "    zoom_range=0.2,\n",
        "    horizontal_flip=True)\n",
        "\n",
        "training_set = train_datagen.flow_from_directory(\n",
        "    '/content/drive/MyDrive/DL/brain-tumor-classification-mri/Training',\n",
        "    target_size=(224, 224),\n",
        "    batch_size=32,\n",
        "    class_mode='sparse',\n",
        "    shuffle=True)"
      ]
    },
    {
      "cell_type": "markdown",
      "id": "b181b7d6",
      "metadata": {
        "papermill": {
          "duration": 0.006972,
          "end_time": "2024-02-03T17:40:10.829163",
          "exception": false,
          "start_time": "2024-02-03T17:40:10.822191",
          "status": "completed"
        },
        "tags": [],
        "id": "b181b7d6"
      },
      "source": [
        "## Preprocessing testing data"
      ]
    },
    {
      "cell_type": "markdown",
      "id": "1c30610b",
      "metadata": {
        "papermill": {
          "duration": 0.006711,
          "end_time": "2024-02-03T17:40:10.842985",
          "exception": false,
          "start_time": "2024-02-03T17:40:10.836274",
          "status": "completed"
        },
        "tags": [],
        "id": "1c30610b"
      },
      "source": [
        "This code initializes a test data generator with pixel rescaling and similar augmentation settings. It then loads the testing data from the specified directory, resizes the images to 224x224 pixels, and applies the configured augmentation.\n"
      ]
    },
    {
      "cell_type": "code",
      "execution_count": 4,
      "id": "85aea830",
      "metadata": {
        "execution": {
          "iopub.execute_input": "2024-02-03T17:40:10.859219Z",
          "iopub.status.busy": "2024-02-03T17:40:10.858847Z",
          "iopub.status.idle": "2024-02-03T17:40:10.903299Z",
          "shell.execute_reply": "2024-02-03T17:40:10.902048Z"
        },
        "papermill": {
          "duration": 0.05576,
          "end_time": "2024-02-03T17:40:10.905928",
          "exception": false,
          "start_time": "2024-02-03T17:40:10.850168",
          "status": "completed"
        },
        "tags": [],
        "colab": {
          "base_uri": "https://localhost:8080/"
        },
        "id": "85aea830",
        "outputId": "f2984013-41c1-4056-dd78-0efcb019c050"
      },
      "outputs": [
        {
          "output_type": "stream",
          "name": "stdout",
          "text": [
            "Found 394 images belonging to 4 classes.\n"
          ]
        }
      ],
      "source": [
        "test_datagen = ImageDataGenerator(\n",
        "    rescale=1./255,\n",
        "    shear_range=0.2,\n",
        "    zoom_range=0.2,\n",
        "    horizontal_flip=True)\n",
        "\n",
        "testing_set = test_datagen.flow_from_directory(\n",
        "    '/content/drive/MyDrive/DL/brain-tumor-classification-mri/Testing',\n",
        "    target_size=(224, 224),\n",
        "    batch_size=32,\n",
        "    class_mode='sparse',\n",
        "    shuffle=True)"
      ]
    },
    {
      "cell_type": "markdown",
      "id": "6f09fca9",
      "metadata": {
        "papermill": {
          "duration": 0.007851,
          "end_time": "2024-02-03T17:40:10.921164",
          "exception": false,
          "start_time": "2024-02-03T17:40:10.913313",
          "status": "completed"
        },
        "tags": [],
        "id": "6f09fca9"
      },
      "source": [
        "# Train the dataset"
      ]
    },
    {
      "cell_type": "markdown",
      "id": "989551a6",
      "metadata": {
        "papermill": {
          "duration": 0.006819,
          "end_time": "2024-02-03T17:40:10.935222",
          "exception": false,
          "start_time": "2024-02-03T17:40:10.928403",
          "status": "completed"
        },
        "tags": [],
        "id": "989551a6"
      },
      "source": [
        "The pre-trained ResNet50 model is used as a base, followed by a global average pooling layer, a dense layer with 256 units and ReLU activation, and a final dense layer with softmax activation for multi-class classification."
      ]
    },
    {
      "cell_type": "code",
      "execution_count": 5,
      "id": "9aa7650b",
      "metadata": {
        "execution": {
          "iopub.execute_input": "2024-02-03T17:40:10.951446Z",
          "iopub.status.busy": "2024-02-03T17:40:10.951037Z",
          "iopub.status.idle": "2024-02-03T17:40:19.085474Z",
          "shell.execute_reply": "2024-02-03T17:40:19.084327Z"
        },
        "papermill": {
          "duration": 8.145972,
          "end_time": "2024-02-03T17:40:19.088345",
          "exception": false,
          "start_time": "2024-02-03T17:40:10.942373",
          "status": "completed"
        },
        "tags": [],
        "colab": {
          "base_uri": "https://localhost:8080/"
        },
        "id": "9aa7650b",
        "outputId": "42327883-c097-4b20-bff3-84fa386815cf"
      },
      "outputs": [
        {
          "output_type": "stream",
          "name": "stdout",
          "text": [
            "Downloading data from https://storage.googleapis.com/tensorflow/keras-applications/resnet/resnet50_weights_tf_dim_ordering_tf_kernels_notop.h5\n",
            "94765736/94765736 [==============================] - 4s 0us/step\n"
          ]
        }
      ],
      "source": [
        "# resnet50\n",
        "base_model = ResNet50(weights='imagenet', include_top=False, input_shape=(224, 224, 3))\n",
        "cnn = Sequential()\n",
        "cnn.add(base_model)\n",
        "cnn.add(GlobalAveragePooling2D())\n",
        "cnn.add(Dense(units=256, activation='relu'))\n",
        "cnn.add(Dense(units=4, activation='softmax'))"
      ]
    },
    {
      "cell_type": "markdown",
      "id": "1a1a6b95",
      "metadata": {
        "papermill": {
          "duration": 0.014458,
          "end_time": "2024-02-03T17:40:19.118289",
          "exception": false,
          "start_time": "2024-02-03T17:40:19.103831",
          "status": "completed"
        },
        "tags": [],
        "id": "1a1a6b95"
      },
      "source": [
        "This code sets the last 8 layers of the pre-trained ResNet50 base model as trainable, allowing fine-tuning for the specific task in this notebook. This selective training modification can enhance model performance by adapting the pre-trained weights to the new dataset while retaining knowledge from earlier layers"
      ]
    },
    {
      "cell_type": "code",
      "execution_count": 6,
      "id": "db6e8dfa",
      "metadata": {
        "execution": {
          "iopub.execute_input": "2024-02-03T17:40:19.149851Z",
          "iopub.status.busy": "2024-02-03T17:40:19.149429Z",
          "iopub.status.idle": "2024-02-03T17:40:19.163358Z",
          "shell.execute_reply": "2024-02-03T17:40:19.162263Z"
        },
        "papermill": {
          "duration": 0.032836,
          "end_time": "2024-02-03T17:40:19.165959",
          "exception": false,
          "start_time": "2024-02-03T17:40:19.133123",
          "status": "completed"
        },
        "tags": [],
        "id": "db6e8dfa"
      },
      "outputs": [],
      "source": [
        "for layer in base_model.layers[:-8]:\n",
        "    layer.trainable = True"
      ]
    },
    {
      "cell_type": "markdown",
      "id": "a459c613",
      "metadata": {
        "papermill": {
          "duration": 0.017484,
          "end_time": "2024-02-03T17:40:19.199514",
          "exception": false,
          "start_time": "2024-02-03T17:40:19.182030",
          "status": "completed"
        },
        "tags": [],
        "id": "a459c613"
      },
      "source": [
        "# Compile cnn with a custom learning rate"
      ]
    },
    {
      "cell_type": "markdown",
      "id": "678cbe0a",
      "metadata": {
        "papermill": {
          "duration": 0.014701,
          "end_time": "2024-02-03T17:40:19.230111",
          "exception": false,
          "start_time": "2024-02-03T17:40:19.215410",
          "status": "completed"
        },
        "tags": [],
        "id": "678cbe0a"
      },
      "source": [
        "This code defines an Adam optimizer with a learning rate of 0.0001 for the previously defined CNN model. The model is compiled using sparse categorical crossentropy as the loss function and accuracy as the metric. The training set is used to fit the model with a batch size of 32, and validation data from the testing set is utilized for model evaluation over 20 epochs in the notebook."
      ]
    },
    {
      "cell_type": "code",
      "execution_count": 7,
      "id": "dba07a45",
      "metadata": {
        "execution": {
          "iopub.execute_input": "2024-02-03T17:40:19.262232Z",
          "iopub.status.busy": "2024-02-03T17:40:19.261082Z",
          "iopub.status.idle": "2024-02-03T23:27:48.909412Z",
          "shell.execute_reply": "2024-02-03T23:27:48.907795Z"
        },
        "papermill": {
          "duration": 20849.667235,
          "end_time": "2024-02-03T23:27:48.911961",
          "exception": false,
          "start_time": "2024-02-03T17:40:19.244726",
          "status": "completed"
        },
        "tags": [],
        "colab": {
          "base_uri": "https://localhost:8080/"
        },
        "id": "dba07a45",
        "outputId": "0dd1bd39-1617-445d-a5d2-f30f3d59fd68"
      },
      "outputs": [
        {
          "output_type": "stream",
          "name": "stdout",
          "text": [
            "Epoch 1/20\n",
            "90/90 [==============================] - 1968s 21s/step - loss: 0.3600 - accuracy: 0.8610 - val_loss: 3.3611 - val_accuracy: 0.2665\n",
            "Epoch 2/20\n",
            "90/90 [==============================] - 62s 692ms/step - loss: 0.1694 - accuracy: 0.9394 - val_loss: 5.5351 - val_accuracy: 0.2665\n",
            "Epoch 3/20\n",
            "90/90 [==============================] - 63s 694ms/step - loss: 0.0869 - accuracy: 0.9725 - val_loss: 3.6383 - val_accuracy: 0.2690\n",
            "Epoch 4/20\n",
            "90/90 [==============================] - 66s 733ms/step - loss: 0.0639 - accuracy: 0.9801 - val_loss: 7.2172 - val_accuracy: 0.2665\n",
            "Epoch 5/20\n",
            "90/90 [==============================] - 62s 681ms/step - loss: 0.0462 - accuracy: 0.9868 - val_loss: 4.7342 - val_accuracy: 0.2665\n",
            "Epoch 6/20\n",
            "90/90 [==============================] - 63s 691ms/step - loss: 0.0367 - accuracy: 0.9902 - val_loss: 5.3294 - val_accuracy: 0.2690\n",
            "Epoch 7/20\n",
            "90/90 [==============================] - 63s 701ms/step - loss: 0.0585 - accuracy: 0.9822 - val_loss: 3.9802 - val_accuracy: 0.3426\n",
            "Epoch 8/20\n",
            "90/90 [==============================] - 62s 691ms/step - loss: 0.0553 - accuracy: 0.9805 - val_loss: 2.2917 - val_accuracy: 0.4848\n",
            "Epoch 9/20\n",
            "90/90 [==============================] - 64s 705ms/step - loss: 0.0443 - accuracy: 0.9895 - val_loss: 2.1791 - val_accuracy: 0.4848\n",
            "Epoch 10/20\n",
            "90/90 [==============================] - 64s 713ms/step - loss: 0.0183 - accuracy: 0.9927 - val_loss: 2.0792 - val_accuracy: 0.5939\n",
            "Epoch 11/20\n",
            "90/90 [==============================] - 64s 705ms/step - loss: 0.0502 - accuracy: 0.9857 - val_loss: 2.2866 - val_accuracy: 0.6066\n",
            "Epoch 12/20\n",
            "90/90 [==============================] - 64s 712ms/step - loss: 0.0239 - accuracy: 0.9927 - val_loss: 1.6204 - val_accuracy: 0.7360\n",
            "Epoch 13/20\n",
            "90/90 [==============================] - 63s 699ms/step - loss: 0.0228 - accuracy: 0.9923 - val_loss: 2.7974 - val_accuracy: 0.6320\n",
            "Epoch 14/20\n",
            "90/90 [==============================] - 63s 697ms/step - loss: 0.0448 - accuracy: 0.9857 - val_loss: 2.4862 - val_accuracy: 0.7234\n",
            "Epoch 15/20\n",
            "90/90 [==============================] - 64s 704ms/step - loss: 0.0160 - accuracy: 0.9951 - val_loss: 1.5886 - val_accuracy: 0.7792\n",
            "Epoch 16/20\n",
            "90/90 [==============================] - 63s 704ms/step - loss: 0.0195 - accuracy: 0.9930 - val_loss: 3.2285 - val_accuracy: 0.6396\n",
            "Epoch 17/20\n",
            "90/90 [==============================] - 66s 737ms/step - loss: 0.0218 - accuracy: 0.9948 - val_loss: 2.2530 - val_accuracy: 0.6878\n",
            "Epoch 18/20\n",
            "90/90 [==============================] - 66s 733ms/step - loss: 0.0089 - accuracy: 0.9976 - val_loss: 2.5126 - val_accuracy: 0.7208\n",
            "Epoch 19/20\n",
            "90/90 [==============================] - 63s 698ms/step - loss: 0.0038 - accuracy: 0.9990 - val_loss: 2.0531 - val_accuracy: 0.7766\n",
            "Epoch 20/20\n",
            "90/90 [==============================] - 64s 710ms/step - loss: 0.0028 - accuracy: 0.9993 - val_loss: 1.4452 - val_accuracy: 0.8147\n"
          ]
        },
        {
          "output_type": "execute_result",
          "data": {
            "text/plain": [
              "<keras.src.callbacks.History at 0x7cc8bb9279a0>"
            ]
          },
          "metadata": {},
          "execution_count": 7
        }
      ],
      "source": [
        "\n",
        "opt = tf.keras.optimizers.Adam(learning_rate=0.0001)\n",
        "cnn.compile(optimizer=opt, loss='sparse_categorical_crossentropy', metrics=['accuracy'])\n",
        "\n",
        "# Fit the model\n",
        "cnn.fit(x=training_set, batch_size=32, validation_data=testing_set, epochs=20)"
      ]
    },
    {
      "cell_type": "markdown",
      "id": "b8b52df5",
      "metadata": {
        "papermill": {
          "duration": 0.206274,
          "end_time": "2024-02-03T23:27:49.311835",
          "exception": false,
          "start_time": "2024-02-03T23:27:49.105561",
          "status": "completed"
        },
        "tags": [],
        "id": "b8b52df5"
      },
      "source": [
        "# Evaluate accuracy on the test set"
      ]
    },
    {
      "cell_type": "markdown",
      "id": "99b3759a",
      "metadata": {
        "papermill": {
          "duration": 0.188379,
          "end_time": "2024-02-03T23:27:49.694405",
          "exception": false,
          "start_time": "2024-02-03T23:27:49.506026",
          "status": "completed"
        },
        "tags": [],
        "id": "99b3759a"
      },
      "source": [
        "This code evaluates the trained CNN model on the testing set and prints the test accuracy in the notebook."
      ]
    },
    {
      "cell_type": "code",
      "execution_count": 8,
      "id": "4fbbfa05",
      "metadata": {
        "execution": {
          "iopub.execute_input": "2024-02-03T23:27:50.186669Z",
          "iopub.status.busy": "2024-02-03T23:27:50.186227Z",
          "iopub.status.idle": "2024-02-03T23:28:28.239981Z",
          "shell.execute_reply": "2024-02-03T23:28:28.238352Z"
        },
        "papermill": {
          "duration": 38.24799,
          "end_time": "2024-02-03T23:28:28.243041",
          "exception": false,
          "start_time": "2024-02-03T23:27:49.995051",
          "status": "completed"
        },
        "tags": [],
        "colab": {
          "base_uri": "https://localhost:8080/"
        },
        "id": "4fbbfa05",
        "outputId": "9b5471c0-ed83-4afc-9c71-9b5b7f163985"
      },
      "outputs": [
        {
          "output_type": "stream",
          "name": "stdout",
          "text": [
            "13/13 [==============================] - 6s 467ms/step - loss: 1.5313 - accuracy: 0.8122\n",
            "Test Accuracy: 0.8121827244758606\n"
          ]
        }
      ],
      "source": [
        "\n",
        "accuracy = cnn.evaluate(testing_set)[1]\n",
        "print(\"Test Accuracy:\", accuracy)"
      ]
    },
    {
      "cell_type": "markdown",
      "id": "0324805a",
      "metadata": {
        "papermill": {
          "duration": 0.191652,
          "end_time": "2024-02-03T23:28:28.627322",
          "exception": false,
          "start_time": "2024-02-03T23:28:28.435670",
          "status": "completed"
        },
        "tags": [],
        "id": "0324805a"
      },
      "source": [
        "# Print model summary"
      ]
    },
    {
      "cell_type": "markdown",
      "id": "742a7569",
      "metadata": {
        "papermill": {
          "duration": 0.196591,
          "end_time": "2024-02-03T23:28:29.015699",
          "exception": false,
          "start_time": "2024-02-03T23:28:28.819108",
          "status": "completed"
        },
        "tags": [],
        "id": "742a7569"
      },
      "source": [
        "This code block prints the summary of the model"
      ]
    },
    {
      "cell_type": "code",
      "execution_count": 9,
      "id": "80e22457",
      "metadata": {
        "execution": {
          "iopub.execute_input": "2024-02-03T23:28:29.432351Z",
          "iopub.status.busy": "2024-02-03T23:28:29.431557Z",
          "iopub.status.idle": "2024-02-03T23:28:29.488027Z",
          "shell.execute_reply": "2024-02-03T23:28:29.486762Z"
        },
        "papermill": {
          "duration": 0.2746,
          "end_time": "2024-02-03T23:28:29.490699",
          "exception": false,
          "start_time": "2024-02-03T23:28:29.216099",
          "status": "completed"
        },
        "tags": [],
        "colab": {
          "base_uri": "https://localhost:8080/"
        },
        "id": "80e22457",
        "outputId": "e744f87d-55e2-4ccf-dd18-1d3b21f73de5"
      },
      "outputs": [
        {
          "output_type": "stream",
          "name": "stdout",
          "text": [
            "Model: \"sequential\"\n",
            "_________________________________________________________________\n",
            " Layer (type)                Output Shape              Param #   \n",
            "=================================================================\n",
            " resnet50 (Functional)       (None, 7, 7, 2048)        23587712  \n",
            "                                                                 \n",
            " global_average_pooling2d (  (None, 2048)              0         \n",
            " GlobalAveragePooling2D)                                         \n",
            "                                                                 \n",
            " dense (Dense)               (None, 256)               524544    \n",
            "                                                                 \n",
            " dense_1 (Dense)             (None, 4)                 1028      \n",
            "                                                                 \n",
            "=================================================================\n",
            "Total params: 24113284 (91.98 MB)\n",
            "Trainable params: 24060164 (91.78 MB)\n",
            "Non-trainable params: 53120 (207.50 KB)\n",
            "_________________________________________________________________\n"
          ]
        }
      ],
      "source": [
        "\n",
        "cnn.summary()"
      ]
    }
  ],
  "metadata": {
    "kaggle": {
      "accelerator": "none",
      "dataSources": [
        {
          "datasetId": 672377,
          "sourceId": 1183165,
          "sourceType": "datasetVersion"
        }
      ],
      "dockerImageVersionId": 30646,
      "isGpuEnabled": false,
      "isInternetEnabled": true,
      "language": "python",
      "sourceType": "notebook"
    },
    "kernelspec": {
      "display_name": "Python 3",
      "name": "python3"
    },
    "language_info": {
      "codemirror_mode": {
        "name": "ipython",
        "version": 3
      },
      "file_extension": ".py",
      "mimetype": "text/x-python",
      "name": "python",
      "nbconvert_exporter": "python",
      "pygments_lexer": "ipython3",
      "version": "3.10.13"
    },
    "papermill": {
      "default_parameters": {},
      "duration": 20923.176204,
      "end_time": "2024-02-03T23:28:33.088476",
      "environment_variables": {},
      "exception": null,
      "input_path": "__notebook__.ipynb",
      "output_path": "__notebook__.ipynb",
      "parameters": {},
      "start_time": "2024-02-03T17:39:49.912272",
      "version": "2.5.0"
    },
    "colab": {
      "provenance": [],
      "gpuType": "T4"
    },
    "accelerator": "GPU"
  },
  "nbformat": 4,
  "nbformat_minor": 5
}